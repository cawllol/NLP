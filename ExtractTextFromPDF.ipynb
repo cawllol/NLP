{
  "nbformat": 4,
  "nbformat_minor": 0,
  "metadata": {
    "colab": {
      "name": "ExtractTextFromPDF.ipynb",
      "provenance": [],
      "authorship_tag": "ABX9TyOSVn9HQNgiTaTaGO/HwIGz",
      "include_colab_link": true
    },
    "kernelspec": {
      "name": "python3",
      "display_name": "Python 3"
    },
    "accelerator": "GPU"
  },
  "cells": [
    {
      "cell_type": "markdown",
      "metadata": {
        "id": "view-in-github",
        "colab_type": "text"
      },
      "source": [
        "<a href=\"https://colab.research.google.com/github/cawllol/NLP/blob/master/ExtractTextFromPDF.ipynb\" target=\"_parent\"><img src=\"https://colab.research.google.com/assets/colab-badge.svg\" alt=\"Open In Colab\"/></a>"
      ]
    },
    {
      "cell_type": "code",
      "metadata": {
        "id": "rEsqCcOmfSlE",
        "colab_type": "code",
        "colab": {
          "base_uri": "https://localhost:8080/",
          "height": 207
        },
        "outputId": "58b45280-eb3f-45f3-facc-330740c153c6"
      },
      "source": [
        "!pip install PyPDF2"
      ],
      "execution_count": 54,
      "outputs": [
        {
          "output_type": "stream",
          "text": [
            "Collecting PyPDF2\n",
            "\u001b[?25l  Downloading https://files.pythonhosted.org/packages/b4/01/68fcc0d43daf4c6bdbc6b33cc3f77bda531c86b174cac56ef0ffdb96faab/PyPDF2-1.26.0.tar.gz (77kB)\n",
            "\r\u001b[K     |████▎                           | 10kB 22.4MB/s eta 0:00:01\r\u001b[K     |████████▌                       | 20kB 2.9MB/s eta 0:00:01\r\u001b[K     |████████████▊                   | 30kB 3.6MB/s eta 0:00:01\r\u001b[K     |█████████████████               | 40kB 4.0MB/s eta 0:00:01\r\u001b[K     |█████████████████████▏          | 51kB 3.5MB/s eta 0:00:01\r\u001b[K     |█████████████████████████▍      | 61kB 3.9MB/s eta 0:00:01\r\u001b[K     |█████████████████████████████▋  | 71kB 4.1MB/s eta 0:00:01\r\u001b[K     |████████████████████████████████| 81kB 3.5MB/s \n",
            "\u001b[?25hBuilding wheels for collected packages: PyPDF2\n",
            "  Building wheel for PyPDF2 (setup.py) ... \u001b[?25l\u001b[?25hdone\n",
            "  Created wheel for PyPDF2: filename=PyPDF2-1.26.0-cp36-none-any.whl size=61086 sha256=2d973146b294a28add31759dca0899f75be629d7128a5c55f75dca1c2e897954\n",
            "  Stored in directory: /root/.cache/pip/wheels/53/84/19/35bc977c8bf5f0c23a8a011aa958acd4da4bbd7a229315c1b7\n",
            "Successfully built PyPDF2\n",
            "Installing collected packages: PyPDF2\n",
            "Successfully installed PyPDF2-1.26.0\n"
          ],
          "name": "stdout"
        }
      ]
    },
    {
      "cell_type": "code",
      "metadata": {
        "id": "zG3bdG_zfMAs",
        "colab_type": "code",
        "colab": {}
      },
      "source": [
        "import PyPDF2 as pdf"
      ],
      "execution_count": 55,
      "outputs": []
    },
    {
      "cell_type": "code",
      "metadata": {
        "id": "D5PDHb9O_Wjm",
        "colab_type": "code",
        "colab": {}
      },
      "source": [
        "file=open('/content/PROMEMORIA.pdf','rb')"
      ],
      "execution_count": 71,
      "outputs": []
    },
    {
      "cell_type": "code",
      "metadata": {
        "id": "I6bN5zr4Ec0A",
        "colab_type": "code",
        "colab": {
          "base_uri": "https://localhost:8080/",
          "height": 34
        },
        "outputId": "81f7c2c9-c12f-4cd9-b8e5-571ed5089748"
      },
      "source": [
        "file"
      ],
      "execution_count": 72,
      "outputs": [
        {
          "output_type": "execute_result",
          "data": {
            "text/plain": [
              "<_io.BufferedReader name='/content/PROMEMORIA.pdf'>"
            ]
          },
          "metadata": {
            "tags": []
          },
          "execution_count": 72
        }
      ]
    },
    {
      "cell_type": "code",
      "metadata": {
        "id": "125adjgeE_z5",
        "colab_type": "code",
        "colab": {}
      },
      "source": [
        "pdf_reader=pdf.PdfFileReader(file)"
      ],
      "execution_count": 73,
      "outputs": []
    },
    {
      "cell_type": "code",
      "metadata": {
        "id": "xpBJDK9XFMOF",
        "colab_type": "code",
        "colab": {
          "base_uri": "https://localhost:8080/",
          "height": 34
        },
        "outputId": "47214bee-c0b3-4e39-8ce6-c9f50b20fadd"
      },
      "source": [
        "pdf_reader"
      ],
      "execution_count": 74,
      "outputs": [
        {
          "output_type": "execute_result",
          "data": {
            "text/plain": [
              "<PyPDF2.pdf.PdfFileReader at 0x7f7dd3b3a128>"
            ]
          },
          "metadata": {
            "tags": []
          },
          "execution_count": 74
        }
      ]
    },
    {
      "cell_type": "code",
      "metadata": {
        "id": "kmzY_p4OFaHD",
        "colab_type": "code",
        "colab": {
          "base_uri": "https://localhost:8080/",
          "height": 1000
        },
        "outputId": "fb62068e-0cf1-4521-8247-d68e096d5444"
      },
      "source": [
        "help(pdf_reader)"
      ],
      "execution_count": 75,
      "outputs": [
        {
          "output_type": "stream",
          "text": [
            "Help on PdfFileReader in module PyPDF2.pdf object:\n",
            "\n",
            "class PdfFileReader(builtins.object)\n",
            " |  Initializes a PdfFileReader object.  This operation can take some time, as\n",
            " |  the PDF stream's cross-reference tables are read into memory.\n",
            " |  \n",
            " |  :param stream: A File object or an object that supports the standard read\n",
            " |      and seek methods similar to a File object. Could also be a\n",
            " |      string representing a path to a PDF file.\n",
            " |  :param bool strict: Determines whether user should be warned of all\n",
            " |      problems and also causes some correctable problems to be fatal.\n",
            " |      Defaults to ``True``.\n",
            " |  :param warndest: Destination for logging warnings (defaults to\n",
            " |      ``sys.stderr``).\n",
            " |  :param bool overwriteWarnings: Determines whether to override Python's\n",
            " |      ``warnings.py`` module with a custom implementation (defaults to\n",
            " |      ``True``).\n",
            " |  \n",
            " |  Methods defined here:\n",
            " |  \n",
            " |  __init__(self, stream, strict=True, warndest=None, overwriteWarnings=True)\n",
            " |      Initialize self.  See help(type(self)) for accurate signature.\n",
            " |  \n",
            " |  cacheGetIndirectObject(self, generation, idnum)\n",
            " |  \n",
            " |  cacheIndirectObject(self, generation, idnum, obj)\n",
            " |  \n",
            " |  decrypt(self, password)\n",
            " |      When using an encrypted / secured PDF file with the PDF Standard\n",
            " |      encryption handler, this function will allow the file to be decrypted.\n",
            " |      It checks the given password against the document's user password and\n",
            " |      owner password, and then stores the resulting decryption key if either\n",
            " |      password is correct.\n",
            " |      \n",
            " |      It does not matter which password was matched.  Both passwords provide\n",
            " |      the correct decryption key that will allow the document to be used with\n",
            " |      this library.\n",
            " |      \n",
            " |      :param str password: The password to match.\n",
            " |      :return: ``0`` if the password failed, ``1`` if the password matched the user\n",
            " |          password, and ``2`` if the password matched the owner password.\n",
            " |      :rtype: int\n",
            " |      :raises NotImplementedError: if document uses an unsupported encryption\n",
            " |          method.\n",
            " |  \n",
            " |  getDestinationPageNumber(self, destination)\n",
            " |      Retrieve page number of a given Destination object\n",
            " |      \n",
            " |      :param Destination destination: The destination to get page number.\n",
            " |           Should be an instance of\n",
            " |           :class:`Destination<PyPDF2.pdf.Destination>`\n",
            " |      :return: the page number or -1 if page not found\n",
            " |      :rtype: int\n",
            " |  \n",
            " |  getDocumentInfo(self)\n",
            " |      Retrieves the PDF file's document information dictionary, if it exists.\n",
            " |      Note that some PDF files use metadata streams instead of docinfo\n",
            " |      dictionaries, and these metadata streams will not be accessed by this\n",
            " |      function.\n",
            " |      \n",
            " |      :return: the document information of this PDF file\n",
            " |      :rtype: :class:`DocumentInformation<pdf.DocumentInformation>` or ``None`` if none exists.\n",
            " |  \n",
            " |  getFields(self, tree=None, retval=None, fileobj=None)\n",
            " |      Extracts field data if this PDF contains interactive form fields.\n",
            " |      The *tree* and *retval* parameters are for recursive use.\n",
            " |      \n",
            " |      :param fileobj: A file object (usually a text file) to write\n",
            " |          a report to on all interactive form fields found.\n",
            " |      :return: A dictionary where each key is a field name, and each\n",
            " |          value is a :class:`Field<PyPDF2.generic.Field>` object. By\n",
            " |          default, the mapping name is used for keys.\n",
            " |      :rtype: dict, or ``None`` if form data could not be located.\n",
            " |  \n",
            " |  getFormTextFields(self)\n",
            " |      Retrieves form fields from the document with textual data (inputs, dropdowns)\n",
            " |  \n",
            " |  getIsEncrypted(self)\n",
            " |  \n",
            " |  getNamedDestinations(self, tree=None, retval=None)\n",
            " |      Retrieves the named destinations present in the document.\n",
            " |      \n",
            " |      :return: a dictionary which maps names to\n",
            " |          :class:`Destinations<PyPDF2.generic.Destination>`.\n",
            " |      :rtype: dict\n",
            " |  \n",
            " |  getNumPages(self)\n",
            " |      Calculates the number of pages in this PDF file.\n",
            " |      \n",
            " |      :return: number of pages\n",
            " |      :rtype: int\n",
            " |      :raises PdfReadError: if file is encrypted and restrictions prevent\n",
            " |          this action.\n",
            " |  \n",
            " |  getObject(self, indirectReference)\n",
            " |  \n",
            " |  getOutlines(self, node=None, outlines=None)\n",
            " |      Retrieves the document outline present in the document.\n",
            " |      \n",
            " |      :return: a nested list of :class:`Destinations<PyPDF2.generic.Destination>`.\n",
            " |  \n",
            " |  getPage(self, pageNumber)\n",
            " |      Retrieves a page by number from this PDF file.\n",
            " |      \n",
            " |      :param int pageNumber: The page number to retrieve\n",
            " |          (pages begin at zero)\n",
            " |      :return: a :class:`PageObject<pdf.PageObject>` instance.\n",
            " |      :rtype: :class:`PageObject<pdf.PageObject>`\n",
            " |  \n",
            " |  getPageLayout(self)\n",
            " |      Get the page layout.\n",
            " |      See :meth:`setPageLayout()<PdfFileWriter.setPageLayout>`\n",
            " |      for a description of valid layouts.\n",
            " |      \n",
            " |      :return: Page layout currently being used.\n",
            " |      :rtype: ``str``, ``None`` if not specified\n",
            " |  \n",
            " |  getPageMode(self)\n",
            " |      Get the page mode.\n",
            " |      See :meth:`setPageMode()<PdfFileWriter.setPageMode>`\n",
            " |      for a description of valid modes.\n",
            " |      \n",
            " |      :return: Page mode currently being used.\n",
            " |      :rtype: ``str``, ``None`` if not specified\n",
            " |  \n",
            " |  getPageNumber(self, page)\n",
            " |      Retrieve page number of a given PageObject\n",
            " |      \n",
            " |      :param PageObject page: The page to get page number. Should be\n",
            " |          an instance of :class:`PageObject<PyPDF2.pdf.PageObject>`\n",
            " |      :return: the page number or -1 if page not found\n",
            " |      :rtype: int\n",
            " |  \n",
            " |  getXmpMetadata(self)\n",
            " |      Retrieves XMP (Extensible Metadata Platform) data from the PDF document\n",
            " |      root.\n",
            " |      \n",
            " |      :return: a :class:`XmpInformation<xmp.XmpInformation>`\n",
            " |          instance that can be used to access XMP metadata from the document.\n",
            " |      :rtype: :class:`XmpInformation<xmp.XmpInformation>` or\n",
            " |          ``None`` if no metadata was found on the document root.\n",
            " |  \n",
            " |  read(self, stream)\n",
            " |  \n",
            " |  readNextEndLine(self, stream)\n",
            " |  \n",
            " |  readObjectHeader(self, stream)\n",
            " |  \n",
            " |  ----------------------------------------------------------------------\n",
            " |  Data descriptors defined here:\n",
            " |  \n",
            " |  __dict__\n",
            " |      dictionary for instance variables (if defined)\n",
            " |  \n",
            " |  __weakref__\n",
            " |      list of weak references to the object (if defined)\n",
            " |  \n",
            " |  documentInfo\n",
            " |  \n",
            " |  isEncrypted\n",
            " |  \n",
            " |  namedDestinations\n",
            " |  \n",
            " |  numPages\n",
            " |  \n",
            " |  outlines\n",
            " |  \n",
            " |  pageLayout\n",
            " |      Get the page layout.\n",
            " |      See :meth:`setPageLayout()<PdfFileWriter.setPageLayout>`\n",
            " |      for a description of valid layouts.\n",
            " |      \n",
            " |      :return: Page layout currently being used.\n",
            " |      :rtype: ``str``, ``None`` if not specified\n",
            " |  \n",
            " |  pageMode\n",
            " |      Get the page mode.\n",
            " |      See :meth:`setPageMode()<PdfFileWriter.setPageMode>`\n",
            " |      for a description of valid modes.\n",
            " |      \n",
            " |      :return: Page mode currently being used.\n",
            " |      :rtype: ``str``, ``None`` if not specified\n",
            " |  \n",
            " |  pages\n",
            " |  \n",
            " |  xmpMetadata\n",
            "\n"
          ],
          "name": "stdout"
        }
      ]
    },
    {
      "cell_type": "code",
      "metadata": {
        "id": "QHylkrpEFfNz",
        "colab_type": "code",
        "colab": {
          "base_uri": "https://localhost:8080/",
          "height": 34
        },
        "outputId": "3c412995-e849-4ef1-b0e6-3fc10de6b59e"
      },
      "source": [
        "pdf_reader.getIsEncrypted()"
      ],
      "execution_count": 76,
      "outputs": [
        {
          "output_type": "execute_result",
          "data": {
            "text/plain": [
              "False"
            ]
          },
          "metadata": {
            "tags": []
          },
          "execution_count": 76
        }
      ]
    },
    {
      "cell_type": "code",
      "metadata": {
        "id": "V9_g7jdMF1B-",
        "colab_type": "code",
        "colab": {
          "base_uri": "https://localhost:8080/",
          "height": 34
        },
        "outputId": "6cfee942-44b7-452e-db00-bbd7b07d5ec5"
      },
      "source": [
        "pdf_reader.getNumPages()"
      ],
      "execution_count": 77,
      "outputs": [
        {
          "output_type": "execute_result",
          "data": {
            "text/plain": [
              "1"
            ]
          },
          "metadata": {
            "tags": []
          },
          "execution_count": 77
        }
      ]
    },
    {
      "cell_type": "code",
      "metadata": {
        "id": "PsOnsWGIGVqE",
        "colab_type": "code",
        "colab": {}
      },
      "source": [
        "page1=pdf_reader.getPage(0)"
      ],
      "execution_count": 78,
      "outputs": []
    },
    {
      "cell_type": "code",
      "metadata": {
        "id": "Ffj9VK-oHIEr",
        "colab_type": "code",
        "colab": {
          "base_uri": "https://localhost:8080/",
          "height": 54
        },
        "outputId": "ead6d7cf-46cc-448c-daed-92924f15db2e"
      },
      "source": [
        "page1.extractText()"
      ],
      "execution_count": 79,
      "outputs": [
        {
          "output_type": "execute_result",
          "data": {
            "text/plain": [
              "'A.A. 201\\n6\\n/1\\n7\\n: PRO\\n-\\nMEMORIA PRINCIPALI SCADENZE DEL MANIFESTO ANNUALE DEGLI STUDI\\n \\n \\nLe date indicate di seguito \\nhanno\\n \\nuna mera funzione di pro\\n-\\nmemoria per gli adempimenti relativi ai \\nprincipali procedimenti\\n \\ne  p\\nertanto occorre riferirsi al Manifesto annuale\\n \\ndegli Studi pe\\nr termini e modalità \\nspecifiche.\\n \\n \\nDal \\n1\\n°\\n \\nluglio 2016\\n \\nvener\\ndì\\n \\n\\n \\nR\\nichi\\ne\\nsta\\n \\ndi\\n \\nvalutazione della carriera per:\\n \\no\\n \\nStudenti decaduti o rinunciatari\\n;\\n \\no\\n \\nSecondo titolo accademico\\n;\\n \\no\\n \\nPassaggi\\no\\n \\ndi corso di studio\\n;\\n \\no\\n \\nTr\\nasferimento da altra Università\\n.\\n \\nDal \\n15 \\nluglio 2016\\n \\nvenerdì\\n \\n\\n \\nI\\nscrizione ai test\\n \\nvalutativi \\nnon selettivi \\nobbligatori e \\nalle\\n \\nprove di \\naccesso\\n \\nobbligatorie ai corsi a numero programmato;\\n \\n\\n \\nI\\nmmatricolazioni\\n \\nai corsi di laurea magistrale (durata biennale);\\n \\n\\n \\nI\\nscrizioni\\n \\nad anni successivi al primo;\\n \\n\\n \\nR\\nichie\\nsta\\n \\ndi \\nopzione\\n \\ndagli ordinamenti didattici previgenti ai nuovi \\nordinamenti;\\n \\n\\n \\nR\\nichiesta di \\npassaggio\\n \\nad un diverso corso di studio;\\n \\n\\n \\nR\\nichiesta di \\ntrasferimento\\n \\nad altra Univer\\nsità.\\n \\n20 luglio 2016\\n \\nmercoledì\\n \\n\\n \\n \\nScadenza r\\nichiesta di valutazione della carriera \\nper:\\n \\no\\n \\nStudenti decaduti o rinunciatari\\n;\\n \\no\\n \\nSecondo titolo accademico\\n;\\n \\no\\n \\nPassaggio di corso di studio\\n;\\n \\no\\n \\nTrasferimento da altra Unive\\nr\\nsità\\n.\\n \\nDal \\n1\\n2 settembre 2016\\n \\nlun\\nedì\\n \\n\\n \\nP\\nresentazione \\npiano di studio\\n \\nper gli studenti iscritti ad anni successivi al \\nprimo.\\n \\n30 \\nsettembre 2016\\n \\nvenerdì\\n \\n\\n \\nScadenza \\niscrizioni\\n \\nad anni successivi al primo;\\n \\n\\n \\nScadenza richiesta di \\nopzione\\n \\ndagli ordinamenti didattici previgenti ai \\nnuovi ordinamenti;\\n \\n\\n \\nScadenza richiesta di \\npassaggio\\n \\nad un diverso corso di studio;\\n \\n\\n \\nScadenza richiesta di \\ntrasferi\\nmento\\n \\nad altra Univer\\nsità\\n.\\n \\nDal \\n3\\n \\nottobre 201\\n6\\n \\nlunedì\\n \\n\\n \\nInizio periodo ordinario per lo svolgimento di lezioni, esercitazioni, \\nseminari, attivi\\ntà di laboratorio e integrative.\\n \\n7 ottobre 2016\\n \\nvenerdì\\n \\n\\n \\nScadenza \\nimmatricolazioni\\n \\nai Corsi di laurea e al Corso di laurea \\nmagistrale a ciclo unico in Giurisprudenza con test valutativo \\nnon \\nselettivo \\nobbligatorio.\\n \\n21\\n \\nottobre 201\\n6\\n \\nvenerdì \\n \\n\\n \\nScadenza presentazione del \\npiano di studio\\n.\\n \\n \\n'"
            ]
          },
          "metadata": {
            "tags": []
          },
          "execution_count": 79
        }
      ]
    },
    {
      "cell_type": "code",
      "metadata": {
        "id": "jYakiiCPHW_6",
        "colab_type": "code",
        "colab": {}
      },
      "source": [
        "#Merge PDF\n",
        "pdf_writer=pdf.PdfFileWriter()\n",
        "pdf_writer.addPage(page1)\n",
        "pdf_writer.addPage(page2)"
      ],
      "execution_count": 80,
      "outputs": []
    },
    {
      "cell_type": "code",
      "metadata": {
        "id": "yqi6-xUAokIw",
        "colab_type": "code",
        "colab": {}
      },
      "source": [
        "output=open('Pages.pdf','wb')\n",
        "pdf_writer.write(output)\n",
        "output.close()"
      ],
      "execution_count": null,
      "outputs": []
    }
  ]
}